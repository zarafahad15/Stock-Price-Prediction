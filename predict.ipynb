{
 "cells": [
  {
   "cell_type": "code",
   "execution_count": null,
   "id": "1684c6a1-8e68-4b19-90f3-8ce86deb1935",
   "metadata": {},
   "outputs": [],
   "source": [
    "import numpy as np\n",
    "import matplotlib.pyplot as plt\n",
    "from tensorflow.keras.models import load_model\n",
    "from data_fetch import fetch_stock_data\n",
    "from preprocess import scale_data, create_sequences\n",
    "\n",
    "# Load trained model\n",
    "model = load_model('stock_lstm_model.h5')\n",
    "\n",
    "# Fetch latest data\n",
    "ticker = 'AAPL'\n",
    "data = fetch_stock_data(ticker)\n",
    "scaled_data, scaler = scale_data(data)\n",
    "\n",
    "# Prepare test sequences (last 200 days)\n",
    "test_data = scaled_data[-260:]  # 60 sequence + 200 test\n",
    "X_test = []\n",
    "y_test = scaled_data[-200:, 0]\n",
    "\n",
    "for i in range(60, len(test_data)):\n",
    "    X_test.append(test_data[i-60:i, 0])\n",
    "\n",
    "X_test = np.array(X_test)\n",
    "X_test = np.reshape(X_test, (X_test.shape[0], X_test.shape[1],1))\n",
    "\n",
    "# Make predictions\n",
    "predictions = model.predict(X_test)\n",
    "predictions = scaler.inverse_transform(predictions.reshape(-1,1))\n",
    "\n",
    "# Plot\n",
    "plt.figure(figsize=(12,6))\n",
    "plt.plot(data.index[-200:], scaler.inverse_transform(y_test.reshape(-1,1)), color='blue', label='Actual Price')\n",
    "plt.plot(data.index[-200:], predictions, color='red', label='Predicted Price')\n",
    "plt.title(f'{ticker} Stock Price Prediction')\n",
    "plt.xlabel('Date')\n",
    "plt.ylabel('Price')\n",
    "plt.legend()\n",
    "plt.show()"
   ]
  }
 ],
 "metadata": {
  "kernelspec": {
   "display_name": "Python [conda env:base] *",
   "language": "python",
   "name": "conda-base-py"
  },
  "language_info": {
   "codemirror_mode": {
    "name": "ipython",
    "version": 3
   },
   "file_extension": ".py",
   "mimetype": "text/x-python",
   "name": "python",
   "nbconvert_exporter": "python",
   "pygments_lexer": "ipython3",
   "version": "3.13.5"
  }
 },
 "nbformat": 4,
 "nbformat_minor": 5
}
